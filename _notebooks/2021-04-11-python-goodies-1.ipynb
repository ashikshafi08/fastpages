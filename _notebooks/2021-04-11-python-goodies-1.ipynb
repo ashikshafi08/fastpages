{
  "nbformat": 4,
  "nbformat_minor": 0,
  "metadata": {
    "colab": {
      "name": "Map_Filter_&_List_Comprehension.ipynb",
      "provenance": []
    },
    "kernelspec": {
      "name": "python3",
      "display_name": "Python 3"
    },
    "language_info": {
      "name": "python"
    }
  },
  "cells": [
    {
      "cell_type": "markdown",
      "metadata": {
        "id": "KAis4K11xIbd"
      },
      "source": [
        "# Intro to Maps, Filters and List Comprehension in Python\n",
        "> Learn how to use great python operations to speed up your coding!\n",
        "\n",
        "- toc:true- branch: master\n",
        "- badges: true\n",
        "- comments: true\n",
        "- author: Ashik Shaffi\n",
        "- categories: [fastpages, jupyter]"
      ]
    },
    {
      "cell_type": "markdown",
      "metadata": {
        "id": "f9GfjuReXdGu"
      },
      "source": [
        "# How to use Maps, Filters and List Comprehension in Python. \n",
        "\n",
        "This notebook will covers the tutorial of map,filter and list comprehension. It's me learning these python goodies and documenting aside, so someday I could look up and revise stuffs. \n",
        "\n",
        "I am going through the course on Coursera called **Python-3 Programming from University of Michigan**. Gotta admit I learnt alot of Python from there and still doing. Earlier I used to take notes on Notion, but now I thought of getting my hands dirty by coding along and take notes in Colab. \n",
        "\n",
        "Also anyone interested or wanna refresh their Python skills could even make use of it. \n",
        "\n"
      ]
    },
    {
      "cell_type": "markdown",
      "metadata": {
        "id": "Z2ig85iV0zUr"
      },
      "source": [
        "## Maps\n",
        "Python provides built-in functions `map` and `filter`, even a new syntax called **list comprehension** that lets you express a mapping/filtering operation. Most documentations and programmers use list comprehension and it seem's more like a pythonic way of writing code. \n",
        "\n",
        "Map, and filter are commands that you would use in high-performance computing on big datasets. http://en.wikipedia.org/wiki/MapReduce"
      ]
    },
    {
      "cell_type": "code",
      "metadata": {
        "colab": {
          "base_uri": "https://localhost:8080/"
        },
        "id": "ggyUj1k6YD06",
        "outputId": "58a8c7f5-1cb4-448d-ec4d-20c048066461"
      },
      "source": [
        "# Double's the values in a list \n",
        "def doubleStuff(a_list):\n",
        "  '''\n",
        "  Returns a new list in which contains doubles of the elements in a list\n",
        "  '''\n",
        "  # Accum list \n",
        "  new_list = []\n",
        "\n",
        "  # Looping through values and making the calculation\n",
        "  for value in a_list:\n",
        "    double_elem = 2 * value \n",
        "    new_list.append(double_elem)\n",
        "  return new_list\n",
        "\n",
        "# Using the above function \n",
        "a_list = [1 , 2, 3 , 4, 5 , 6]\n",
        "print(f'List before the values were got double: {a_list}')\n",
        "double_list = doubleStuff(a_list)\n",
        "print(f'\\nThe list after the values they got double the number: {double_list}')"
      ],
      "execution_count": 1,
      "outputs": [
        {
          "output_type": "stream",
          "text": [
            "List before the values were got double: [1, 2, 3, 4, 5, 6]\n",
            "\n",
            "The list after the values they got double the number: [2, 4, 6, 8, 10, 12]\n"
          ],
          "name": "stdout"
        }
      ]
    },
    {
      "cell_type": "markdown",
      "metadata": {
        "id": "TqFu0xRzeYeq"
      },
      "source": [
        "We can write the above function with less than one line of code using the `map` function. \n",
        "\n",
        "Map is a function which takes functions as the first input and sequence as an second input. `map(function , sequence)`. Map just says apply the transforms (function) to every element in this sequence. \n",
        "\n",
        "Map always expects a transformer function. "
      ]
    },
    {
      "cell_type": "code",
      "metadata": {
        "colab": {
          "base_uri": "https://localhost:8080/"
        },
        "id": "HNRVH0MPhzjA",
        "outputId": "7aacd728-91a3-484b-9f6e-07a118ad959f"
      },
      "source": [
        "# Reproducing the above doubleStuff function using map \n",
        "def double(value):\n",
        "  return 2*value\n",
        "\n",
        "map_double_list = list(map(double , a_list))\n",
        "print(f'Using map function: {map_double_list}')"
      ],
      "execution_count": 2,
      "outputs": [
        {
          "output_type": "stream",
          "text": [
            "Using map function: [2, 4, 6, 8, 10, 12]\n"
          ],
          "name": "stdout"
        }
      ]
    },
    {
      "cell_type": "markdown",
      "metadata": {
        "id": "7I4lpQJYkLTn"
      },
      "source": [
        "I earlier tried just `map(double , a_list)` which gave me just the map object. It turns out to be enclosing the map object by a list will gives us the list object. \n",
        "\n",
        "**But why this happens?**\n",
        "Map function returns an iterator, it doesn't want to store the list in it's memory. It's still an iterator and we can grab the list we needed by enclosing the map object by a `list` which prevents pain to memory . "
      ]
    },
    {
      "cell_type": "code",
      "metadata": {
        "colab": {
          "base_uri": "https://localhost:8080/"
        },
        "id": "QzO1KrwTi5kj",
        "outputId": "28fb46a9-29ad-4c31-8405-011efab0d846"
      },
      "source": [
        "# We can even pass a lambda expression as an transformer function \n",
        "# Multiply 5 to every value\n",
        "\n",
        "map_lambda_list = list(map(lambda value: 5*value , a_list))\n",
        "print(f'Multiplying 5 to every element: {map_lambda_list}')"
      ],
      "execution_count": 3,
      "outputs": [
        {
          "output_type": "stream",
          "text": [
            "Multiplying 5 to every element: [5, 10, 15, 20, 25, 30]\n"
          ],
          "name": "stdout"
        }
      ]
    },
    {
      "cell_type": "markdown",
      "metadata": {
        "id": "7vVOQ7pPjIV0"
      },
      "source": [
        "### Let's Solve some Problems! \n",
        "\n",
        "Gotta go through more: https://www.w3resource.com/python-exercises/map/index.php"
      ]
    },
    {
      "cell_type": "markdown",
      "metadata": {
        "id": "F0q-Nzd_v_hA"
      },
      "source": [
        "1. Below we have provided a list of strings called `abbrevs`. Use map to produce a new list called `abbrevs_upper` that contains all the same strings in upper case. "
      ]
    },
    {
      "cell_type": "code",
      "metadata": {
        "id": "MuD3ZW2GnCOa"
      },
      "source": [
        "# List of country's abbrevation\n",
        "abbrevs = ['usa' , 'esp' , 'chn' , 'jpn' , 'mex' , 'can' , 'rus' ,  'rsa' , 'jam']"
      ],
      "execution_count": 4,
      "outputs": []
    },
    {
      "cell_type": "code",
      "metadata": {
        "colab": {
          "base_uri": "https://localhost:8080/"
        },
        "id": "gsvX1jz_m8Ki",
        "outputId": "19baf215-0a90-499e-88b3-1972c754c679"
      },
      "source": [
        "# With manual acccumlation \n",
        "upperAbbrev_list = []\n",
        "for abbrev in abbrevs:\n",
        "  upperAbbrev_list.append(abbrev.upper())\n",
        "print(upperAbbrev_list)\n"
      ],
      "execution_count": 5,
      "outputs": [
        {
          "output_type": "stream",
          "text": [
            "['USA', 'ESP', 'CHN', 'JPN', 'MEX', 'CAN', 'RUS', 'RSA', 'JAM']\n"
          ],
          "name": "stdout"
        }
      ]
    },
    {
      "cell_type": "code",
      "metadata": {
        "colab": {
          "base_uri": "https://localhost:8080/"
        },
        "id": "sMYOwz2kl-pn",
        "outputId": "98c9fd0e-817f-46c8-abe9-1b042c980741"
      },
      "source": [
        "# Using map to convert them into Uppercase \n",
        "upperCase_abbrevs = list(map(lambda abbrev: abbrev.upper() , abbrevs))\n",
        "print(upperCase_abbrevs)\n",
        "        "
      ],
      "execution_count": 6,
      "outputs": [
        {
          "output_type": "stream",
          "text": [
            "['USA', 'ESP', 'CHN', 'JPN', 'MEX', 'CAN', 'RUS', 'RSA', 'JAM']\n"
          ],
          "name": "stdout"
        }
      ]
    },
    {
      "cell_type": "markdown",
      "metadata": {
        "id": "ZPyf8g-ymwfF"
      },
      "source": [
        "2. Using `map`, create a list assigned to the variable `greeting_doubled` that doubles each element in the list. \n",
        "\n",
        "`lst = [[\"hi\", \"bye\"], \"hello\", \"goodbye\", [9, 2], 4]`"
      ]
    },
    {
      "cell_type": "code",
      "metadata": {
        "colab": {
          "base_uri": "https://localhost:8080/"
        },
        "id": "QVhwI3Y8uu2X",
        "outputId": "9a95906a-2df9-40fe-81a3-5c6e9e2d16f3"
      },
      "source": [
        "# The list to double \n",
        "lst = [[\"hi\", \"bye\"], \"hello\", \"goodbye\", [9, 2], 4]\n",
        "\n",
        "greeting_doubled = list(map(lambda element: 2 * element , lst))\n",
        "print(greeting_doubled)"
      ],
      "execution_count": 7,
      "outputs": [
        {
          "output_type": "stream",
          "text": [
            "[['hi', 'bye', 'hi', 'bye'], 'hellohello', 'goodbyegoodbye', [9, 2, 9, 2], 8]\n"
          ],
          "name": "stdout"
        }
      ]
    },
    {
      "cell_type": "markdown",
      "metadata": {
        "id": "Zd38fIOdu10M"
      },
      "source": [
        "3. Write a Python program to add three given lists using Python map and lambda"
      ]
    },
    {
      "cell_type": "code",
      "metadata": {
        "colab": {
          "base_uri": "https://localhost:8080/"
        },
        "id": "whZltgHuvEO1",
        "outputId": "02e12016-88d8-4343-8d1a-cb050a1fb9dd"
      },
      "source": [
        "list(map(lambda a,b,c: a + b + c , [1 , 2 ,3] , [4 ,5 , 6] , [7 ,8 , 9]))"
      ],
      "execution_count": 8,
      "outputs": [
        {
          "output_type": "execute_result",
          "data": {
            "text/plain": [
              "[12, 15, 18]"
            ]
          },
          "metadata": {
            "tags": []
          },
          "execution_count": 8
        }
      ]
    },
    {
      "cell_type": "markdown",
      "metadata": {
        "id": "Ox1bqrO1vr1C"
      },
      "source": [
        "## Filters\n",
        "Filter function `filter` takes two arguments same like our `map` which has both function and a sequence parameters. Instead mapping them or making calculation with eachother, `filter` filters out the numbers either **True or False**.\n",
        "\n",
        "The function takes one item and return True if the item should. It is automatically called for each item in the sequence\n",
        "\n",
        "`filter` returns an iterator object like map, so we gotta wrap them by `list`.\n"
      ]
    },
    {
      "cell_type": "code",
      "metadata": {
        "colab": {
          "base_uri": "https://localhost:8080/"
        },
        "id": "DuyYP6ddwYok",
        "outputId": "b3552bb2-d539-4ace-e0df-b7865df803a5"
      },
      "source": [
        "# Manual Accumulation which filters only the even numbers \n",
        "def keep_evens(a_list):\n",
        "  new_list = []\n",
        "  for elem in a_list:\n",
        "    if elem % 2 == 0:\n",
        "      new_list.append(elem)\n",
        "  return new_list\n",
        "\n",
        "# Using the above function \n",
        "mixList = [2 , 88 , 33 , 22 , 14 , 0 , 8 , 10 , 20 , 4]\n",
        "evenList = keep_evens(mixList)\n",
        "print(evenList)\n"
      ],
      "execution_count": 9,
      "outputs": [
        {
          "output_type": "stream",
          "text": [
            "[2, 88, 22, 14, 0, 8, 10, 20, 4]\n"
          ],
          "name": "stdout"
        }
      ]
    },
    {
      "cell_type": "code",
      "metadata": {
        "colab": {
          "base_uri": "https://localhost:8080/"
        },
        "id": "P_fPROhdxduY",
        "outputId": "493a33b6-1115-4543-c5ab-104ed178ce10"
      },
      "source": [
        "# Using the filter function \n",
        "filterEvenList = list(filter(lambda elem: elem % 2 == 0 , mixList))\n",
        "print(filterEvenList)"
      ],
      "execution_count": 10,
      "outputs": [
        {
          "output_type": "stream",
          "text": [
            "[2, 88, 22, 14, 0, 8, 10, 20, 4]\n"
          ],
          "name": "stdout"
        }
      ]
    },
    {
      "cell_type": "markdown",
      "metadata": {
        "id": "c9UP4Zz6xer5"
      },
      "source": [
        "### Let's Solve some Problems "
      ]
    },
    {
      "cell_type": "markdown",
      "metadata": {
        "id": "6EnTx1Bi04vY"
      },
      "source": [
        "1. Using filter, filter `lst` so that it only contains words containing the letter 'o'. Assign to variable `lst2`. \n",
        "\n",
        "``` \n",
        "lst = ['witch' , 'halloween' , 'pumpkin' , 'cat' , 'candy' , 'wagon' ,'moon']\n",
        "```"
      ]
    },
    {
      "cell_type": "code",
      "metadata": {
        "colab": {
          "base_uri": "https://localhost:8080/"
        },
        "id": "xM0sVLES1Jvb",
        "outputId": "43d029b6-7582-45b4-e1a1-2377cd46ad9e"
      },
      "source": [
        "lst = ['witch' , 'halloween' , 'pumpkin' , 'cat' , 'candy' , 'wagon' , 'moon']\n",
        "\n",
        "lst2 = list(filter(lambda elem: 'o' in elem , lst))\n",
        "print(lst2)"
      ],
      "execution_count": 11,
      "outputs": [
        {
          "output_type": "stream",
          "text": [
            "['halloween', 'wagon', 'moon']\n"
          ],
          "name": "stdout"
        }
      ]
    },
    {
      "cell_type": "markdown",
      "metadata": {
        "id": "Wp55DYT21p80"
      },
      "source": [
        "2. Write code to assign to the variable `filter_testing` all the elements in `lst_check` that have a 'w' in them using filter.\n",
        "\n",
        "```\n",
        "lst_check = ['plums', 'watermelon', 'kiwi', 'strawberries', 'blueberries', 'peaches', 'apples', 'mangos', 'papaya']\n",
        "\n",
        "```\n",
        "\n"
      ]
    },
    {
      "cell_type": "code",
      "metadata": {
        "colab": {
          "base_uri": "https://localhost:8080/"
        },
        "id": "54w13zsO2jMG",
        "outputId": "1a0ee8e5-b8f6-4dcb-bf56-365d499cf6c2"
      },
      "source": [
        "lst_check = ['plums', 'watermelon', 'kiwi', 'strawberries', 'blueberries', 'peaches', 'apples', 'mangos', 'papaya']\n",
        "\n",
        "filter_testing = list(filter(lambda word: 'w' in word , lst_check))\n",
        "print(filter_testing)"
      ],
      "execution_count": 12,
      "outputs": [
        {
          "output_type": "stream",
          "text": [
            "['watermelon', 'kiwi', 'strawberries']\n"
          ],
          "name": "stdout"
        }
      ]
    },
    {
      "cell_type": "markdown",
      "metadata": {
        "id": "rGVDVDWh2s4L"
      },
      "source": [
        "## List Comprehensions\n",
        "\n",
        "Before we saw those two functions namely `map` and `filter` turns out to be we don't want to use them much (or) in other words we can use list comprehensions inplace of using `map` and `filter`. Better we can pull off more flexibility by using  list comprehensions.\n",
        "\n",
        "In simple words list comprehensions is a convinient syntax to do `map` and `filter` operations. \n",
        "\n",
        "**Basic Syntax of list comprehension:**\n",
        "```\n",
        "[ <transformer_expression> for <iterator_variable> in <sequence> if <filteration_expression>]\n",
        "```"
      ]
    },
    {
      "cell_type": "code",
      "metadata": {
        "colab": {
          "base_uri": "https://localhost:8080/"
        },
        "id": "nUikn0-XwZWL",
        "outputId": "05d4bd7f-30e8-4399-c0a5-ebd52c90ab2e"
      },
      "source": [
        "# We know the below syntax in map, which use to double the element \n",
        "def double(value):\n",
        "  return 2*value\n",
        "\n",
        "map_double_list = list(map(double , a_list))\n",
        "print(f'Using map function: {map_double_list}')"
      ],
      "execution_count": 13,
      "outputs": [
        {
          "output_type": "stream",
          "text": [
            "Using map function: [2, 4, 6, 8, 10, 12]\n"
          ],
          "name": "stdout"
        }
      ]
    },
    {
      "cell_type": "code",
      "metadata": {
        "colab": {
          "base_uri": "https://localhost:8080/"
        },
        "id": "dC6hKMDhzlId",
        "outputId": "47f44590-834f-4b4f-dae1-ee25f2d05002"
      },
      "source": [
        "# The list we want to double \n",
        "a_list"
      ],
      "execution_count": 14,
      "outputs": [
        {
          "output_type": "execute_result",
          "data": {
            "text/plain": [
              "[1, 2, 3, 4, 5, 6]"
            ]
          },
          "metadata": {
            "tags": []
          },
          "execution_count": 14
        }
      ]
    },
    {
      "cell_type": "code",
      "metadata": {
        "colab": {
          "base_uri": "https://localhost:8080/"
        },
        "id": "uSFq4RdCybTr",
        "outputId": "87de5eee-e9f2-420a-90de-ca455b3fd685"
      },
      "source": [
        "# Writing the above using list comprehensions \n",
        "\n",
        "compre_double_list = [value * 2 for value in a_list]\n",
        "compre_double_list"
      ],
      "execution_count": 16,
      "outputs": [
        {
          "output_type": "execute_result",
          "data": {
            "text/plain": [
              "[2, 4, 6, 8, 10, 12]"
            ]
          },
          "metadata": {
            "tags": []
          },
          "execution_count": 16
        }
      ]
    },
    {
      "cell_type": "markdown",
      "metadata": {
        "id": "zJ4IiHb8zsv4"
      },
      "source": [
        "Breaking down by the syntax: \n",
        "- transformer_expression : `value * 2`\n",
        "- iterator_varaible : `value`\n",
        "- sequence : `a_list`"
      ]
    },
    {
      "cell_type": "code",
      "metadata": {
        "colab": {
          "base_uri": "https://localhost:8080/"
        },
        "id": "RuSEiqRk0PdE",
        "outputId": "a5b57907-b74b-4684-cd45-57ea5663127b"
      },
      "source": [
        "# Filtering using the lambda function \n",
        "filterEvenList = list(filter(lambda elem: elem % 2 == 0 , mixList))\n",
        "print(filterEvenList)"
      ],
      "execution_count": 17,
      "outputs": [
        {
          "output_type": "stream",
          "text": [
            "[2, 88, 22, 14, 0, 8, 10, 20, 4]\n"
          ],
          "name": "stdout"
        }
      ]
    },
    {
      "cell_type": "code",
      "metadata": {
        "colab": {
          "base_uri": "https://localhost:8080/"
        },
        "id": "zL_Pwjsd0hYl",
        "outputId": "b5b8c5fc-e940-4d21-857b-68f5d058e98f"
      },
      "source": [
        "# The list we're going to filter \n",
        "mixList"
      ],
      "execution_count": 19,
      "outputs": [
        {
          "output_type": "execute_result",
          "data": {
            "text/plain": [
              "[2, 88, 33, 22, 14, 0, 8, 10, 20, 4]"
            ]
          },
          "metadata": {
            "tags": []
          },
          "execution_count": 19
        }
      ]
    },
    {
      "cell_type": "code",
      "metadata": {
        "colab": {
          "base_uri": "https://localhost:8080/"
        },
        "id": "i8JNsUeo0l7A",
        "outputId": "1048ee7b-8174-4a15-b12b-14887b9ef045"
      },
      "source": [
        "# Using list comprehension\n",
        "filterListComprehension = [element for element in mixList if element % 2 == 0]\n",
        "filterListComprehension"
      ],
      "execution_count": 20,
      "outputs": [
        {
          "output_type": "execute_result",
          "data": {
            "text/plain": [
              "[2, 88, 22, 14, 0, 8, 10, 20, 4]"
            ]
          },
          "metadata": {
            "tags": []
          },
          "execution_count": 20
        }
      ]
    },
    {
      "cell_type": "code",
      "metadata": {
        "colab": {
          "base_uri": "https://localhost:8080/"
        },
        "id": "_hJwGuBP3Q91",
        "outputId": "3e309042-1a1c-4878-e6d0-233aebd1fca7"
      },
      "source": [
        "# Checking if both are True\n",
        "filterListComprehension == filterEvenList"
      ],
      "execution_count": 21,
      "outputs": [
        {
          "output_type": "execute_result",
          "data": {
            "text/plain": [
              "True"
            ]
          },
          "metadata": {
            "tags": []
          },
          "execution_count": 21
        }
      ]
    },
    {
      "cell_type": "markdown",
      "metadata": {
        "id": "ePjZmHG15fSa"
      },
      "source": [
        " Write code to assign to the variable `compri` all the values of the key `name` in any of the sub-dictionaries in the dictionary `tester`. Do this using a list comprehension."
      ]
    },
    {
      "cell_type": "code",
      "metadata": {
        "colab": {
          "base_uri": "https://localhost:8080/"
        },
        "id": "Ty4_ZXzj3XhE",
        "outputId": "7fb8c77b-321d-4a30-8912-eb38c2213468"
      },
      "source": [
        "tester = {'info': [{\"name\": \"Lauren\", 'class standing': 'Junior', 'major': \"Information Science\"},{'name': 'Ayo', 'class standing': \"Bachelor's\", 'major': 'Information Science'}, {'name': 'Kathryn', 'class standing': 'Senior', 'major': 'Sociology'}, {'name': 'Nick', 'class standing': 'Junior', 'major': 'Computer Science'}, {'name': 'Gladys', 'class standing': 'Sophomore', 'major': 'History'}, {'name': 'Adam', 'major': 'Violin Performance', 'class standing': 'Senior'}]}\n",
        "\n",
        "inner_list = tester['info']\n",
        "#print(inner_list)\n",
        "\n",
        "# For Readability\n",
        "import json \n",
        "print(json.dumps(inner_list , indent = 2))\n"
      ],
      "execution_count": 29,
      "outputs": [
        {
          "output_type": "stream",
          "text": [
            "[\n",
            "  {\n",
            "    \"name\": \"Lauren\",\n",
            "    \"class standing\": \"Junior\",\n",
            "    \"major\": \"Information Science\"\n",
            "  },\n",
            "  {\n",
            "    \"name\": \"Ayo\",\n",
            "    \"class standing\": \"Bachelor's\",\n",
            "    \"major\": \"Information Science\"\n",
            "  },\n",
            "  {\n",
            "    \"name\": \"Kathryn\",\n",
            "    \"class standing\": \"Senior\",\n",
            "    \"major\": \"Sociology\"\n",
            "  },\n",
            "  {\n",
            "    \"name\": \"Nick\",\n",
            "    \"class standing\": \"Junior\",\n",
            "    \"major\": \"Computer Science\"\n",
            "  },\n",
            "  {\n",
            "    \"name\": \"Gladys\",\n",
            "    \"class standing\": \"Sophomore\",\n",
            "    \"major\": \"History\"\n",
            "  },\n",
            "  {\n",
            "    \"name\": \"Adam\",\n",
            "    \"major\": \"Violin Performance\",\n",
            "    \"class standing\": \"Senior\"\n",
            "  }\n",
            "]\n"
          ],
          "name": "stdout"
        }
      ]
    },
    {
      "cell_type": "code",
      "metadata": {
        "colab": {
          "base_uri": "https://localhost:8080/"
        },
        "id": "LBINT2AM6yXd",
        "outputId": "5b578d5f-3aae-4674-b763-b3b736cd93a6"
      },
      "source": [
        "# Without list comprehension\n",
        "nameList = []\n",
        "if True: \n",
        "  for dict_name in inner_list:\n",
        "    name = dict_name['name']\n",
        "    nameList.append(name)\n",
        "  print(nameList)"
      ],
      "execution_count": 33,
      "outputs": [
        {
          "output_type": "stream",
          "text": [
            "['Lauren', 'Ayo', 'Kathryn', 'Nick', 'Gladys', 'Adam']\n"
          ],
          "name": "stdout"
        }
      ]
    },
    {
      "cell_type": "code",
      "metadata": {
        "colab": {
          "base_uri": "https://localhost:8080/"
        },
        "id": "WYo8831C4c9t",
        "outputId": "be787213-2538-4757-f5b1-9d7ab5bc791d"
      },
      "source": [
        "# Now it's time to iterate through each of the dictionary (List Comprehension)\n",
        "\n",
        "compri = [dict_value['name'] for dict_value in inner_list if True]\n",
        "compri"
      ],
      "execution_count": 35,
      "outputs": [
        {
          "output_type": "execute_result",
          "data": {
            "text/plain": [
              "['Lauren', 'Ayo', 'Kathryn', 'Nick', 'Gladys', 'Adam']"
            ]
          },
          "metadata": {
            "tags": []
          },
          "execution_count": 35
        }
      ]
    },
    {
      "cell_type": "code",
      "metadata": {
        "id": "1Spks5GT6vZM"
      },
      "source": [
        ""
      ],
      "execution_count": null,
      "outputs": []
    }
  ]
}